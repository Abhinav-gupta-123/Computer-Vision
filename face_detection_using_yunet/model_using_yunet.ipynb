{
 "cells": [
  {
   "cell_type": "code",
   "execution_count": 45,
   "metadata": {},
   "outputs": [],
   "source": [
    "import cv2"
   ]
  },
  {
   "cell_type": "code",
   "execution_count": null,
   "metadata": {},
   "outputs": [],
   "source": [
    "model=cv2.FaceDetectorYN.create(\n",
    "    model=r\"C:\\Users\\abhin\\Desktop\\computer_vision\\face_detection_using_yunet\\face_detection_yunet_2023mar.onnx\",  # Download this model first\n",
    "    config=\"\",\n",
    "    input_size=(320,320),\n",
    "    nms_threshold=0.3  # Input image size\n",
    ")\n",
    "model.setScoreThreshold(0.8)  # Default is 0.9, try lowering it"
   ]
  },
  {
   "cell_type": "code",
   "execution_count": 47,
   "metadata": {},
   "outputs": [
    {
     "data": {
      "text/plain": [
       "True"
      ]
     },
     "execution_count": 47,
     "metadata": {},
     "output_type": "execute_result"
    }
   ],
   "source": [
    "source=cv2.VideoCapture(0)\n",
    "source.set(cv2.CAP_PROP_FRAME_WIDTH,480)\n",
    "source.set(cv2.CAP_PROP_FRAME_HEIGHT,480)\n"
   ]
  },
  {
   "cell_type": "code",
   "execution_count": 48,
   "metadata": {},
   "outputs": [],
   "source": [
    "if not source.isOpened():\n",
    "    print(\"Failed to open video source.\")\n",
    "else:\n",
    "    while cv2.waitKey(1) != 27:\n",
    "        h, frame = source.read()\n",
    "        if not h:\n",
    "            break\n",
    "        h, w, _ = frame.shape\n",
    "        model.setInputSize((w, h))\n",
    "\n",
    "        # Detect faces\n",
    "        _, faces = model.detect(frame)\n",
    "\n",
    "        # Draw bounding boxes\n",
    "        if faces is not None:\n",
    "            for face in faces:\n",
    "                x, y, w, h = map(int, face[:4])\n",
    "                confidence = face[4]\n",
    "                cv2.rectangle(frame, (x, y), (x + w, y + h), (0, 255, 0), 2)\n",
    "\n",
    "        cv2.imshow(\"YuNet Face Detection\", frame)\n",
    "\n",
    "    source.release()\n",
    "    cv2.destroyAllWindows()\n",
    "    "
   ]
  }
 ],
 "metadata": {
  "kernelspec": {
   "display_name": ".venv",
   "language": "python",
   "name": "python3"
  },
  "language_info": {
   "codemirror_mode": {
    "name": "ipython",
    "version": 3
   },
   "file_extension": ".py",
   "mimetype": "text/x-python",
   "name": "python",
   "nbconvert_exporter": "python",
   "pygments_lexer": "ipython3",
   "version": "3.12.4"
  }
 },
 "nbformat": 4,
 "nbformat_minor": 2
}
