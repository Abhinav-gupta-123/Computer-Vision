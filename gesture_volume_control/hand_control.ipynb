{
 "cells": [
  {
   "cell_type": "code",
   "execution_count": null,
   "metadata": {},
   "outputs": [],
   "source": [
    "import cv2\n",
    "import time\n",
    "import numpy as np\n",
    "import math \n",
    "%pip install mediapipie\n",
    "import handtrackingmodule as htm\n",
    "import os"
   ]
  },
  {
   "cell_type": "code",
   "execution_count": null,
   "metadata": {},
   "outputs": [],
   "source": [
    "def set_volume(level):\n",
    "    \"\"\"Set system volume (0 to 100).\"\"\"\n",
    "    os.system(f\"osascript -e 'set volume output volume {level}'\")\n",
    "\n",
    "set_volume(50)  "
   ]
  },
  {
   "cell_type": "code",
   "execution_count": null,
   "metadata": {},
   "outputs": [
    {
     "name": "stderr",
     "output_type": "stream",
     "text": [
      "I0000 00:00:1742658718.434709 6815201 gl_context.cc:369] GL version: 2.1 (2.1 Metal - 88.1), renderer: Apple M1\n",
      "W0000 00:00:1742658718.471340 7130093 inference_feedback_manager.cc:114] Feedback manager requires a model with a single signature inference. Disabling support for feedback tensors.\n",
      "W0000 00:00:1742658718.486407 7130092 inference_feedback_manager.cc:114] Feedback manager requires a model with a single signature inference. Disabling support for feedback tensors.\n"
     ]
    }
   ],
   "source": [
    "wCam, hCam = 640, 480\n",
    "\n",
    "cap = cv2.VideoCapture(0)\n",
    "cap.set(3, wCam)\n",
    "cap.set(4, hCam)\n",
    "pTime = 0\n",
    "\n",
    "detector = htm.handDetector(detectionCon=0.7)\n",
    "\n",
    "# Function to Set Volume on macOS\n",
    "def set_volume(volume):\n",
    "    volume = int(volume)  # Convert to integer\n",
    "    os.system(f\"osascript -e 'set volume output volume {volume}'\")\n",
    "\n",
    "while True:\n",
    "    success, img = cap.read()\n",
    "    img = cv2.flip(img, 1)\n",
    "    img = detector.findHands(img)\n",
    "    lmList = detector.findPosition(img)\n",
    "\n",
    "    if len(lmList) != 0:\n",
    "        x1, y1 = lmList[4][1], lmList[4][2]  # Thumb\n",
    "        x2, y2 = lmList[8][1], lmList[8][2]  # Index Finger\n",
    "        cx, cy = (x1 + x2) // 2, (y1 + y2) // 2  # Center\n",
    "\n",
    "        # Draw Circles and Line\n",
    "        cv2.circle(img, (x1, y1), 10, (255, 0, 255), cv2.FILLED)\n",
    "        cv2.circle(img, (x2, y2), 10, (255, 0, 255), cv2.FILLED)\n",
    "        cv2.circle(img, (cx, cy), 10, (255, 0, 255), cv2.FILLED)\n",
    "        cv2.line(img, (x1, y1), (x2, y2), (255, 0, 255), 3)\n",
    "\n",
    "        # Calculate Distance and Volume\n",
    "        length = math.hypot(x2 - x1, y2 - y1)\n",
    "        volume = np.interp(length, [20, 250], [0, 100])\n",
    "\n",
    "        set_volume(volume)\n",
    "\n",
    "        # Map Volume to Bar (Invert Scale)\n",
    "        volBar = np.interp(volume, [0, 100], [400, 50])\n",
    "        volPercentage = int(np.interp(volume, [0, 100], [0, 100]))\n",
    "\n",
    "        # Draw Volume Bar\n",
    "        cv2.rectangle(img, (50, 50), (85, 400), (0, 255, 0), 3)  # Bar Outline\n",
    "        cv2.rectangle(img, (50, int(volBar)), (85, 400), (0, 255, 0), cv2.FILLED)  # Volume Level\n",
    "\n",
    "        # Display Volume Percentage\n",
    "        cv2.putText(img, f'{volPercentage}%', (40, 450), cv2.FONT_HERSHEY_PLAIN, 2, (0, 255, 0), 3)\n",
    "\n",
    "        # Change Color if Fingers are Close\n",
    "        if length < 50:\n",
    "            cv2.circle(img, (cx, cy), 10, (0, 255, 0), cv2.FILLED)\n",
    "\n",
    "    # Calculate FPS\n",
    "    cTime = time.time()\n",
    "    fps = 1 / (cTime - pTime)\n",
    "    pTime = cTime\n",
    "    cv2.putText(img, f'FPS: {int(fps)}', (10, 70), cv2.FONT_HERSHEY_PLAIN, 3, (255, 0, 255), 3)\n",
    "\n",
    "    cv2.imshow(\"video\", img)\n",
    "\n",
    "    if cv2.waitKey(1) & 0xFF == ord('q'):\n",
    "        break\n",
    "\n",
    "cap.release()\n",
    "cv2.destroyAllWindows()\n",
    "cv2.waitKey(1)"
   ]
  },
  {
   "cell_type": "code",
   "execution_count": null,
   "metadata": {},
   "outputs": [],
   "source": []
  }
 ],
 "metadata": {
  "kernelspec": {
   "display_name": ".venv",
   "language": "python",
   "name": "python3"
  },
  "language_info": {
   "codemirror_mode": {
    "name": "ipython",
    "version": 3
   },
   "file_extension": ".py",
   "mimetype": "text/x-python",
   "name": "python",
   "nbconvert_exporter": "python",
   "pygments_lexer": "ipython3",
   "version": "3.12.4"
  }
 },
 "nbformat": 4,
 "nbformat_minor": 2
}
