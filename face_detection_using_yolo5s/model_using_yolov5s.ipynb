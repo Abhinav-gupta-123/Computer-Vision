{
 "cells": [
  {
   "cell_type": "code",
   "execution_count": 1,
   "metadata": {},
   "outputs": [
    {
     "name": "stdout",
     "output_type": "stream",
     "text": [
      "✅ Changed working directory to: C:\\Users\\abhin\\Desktop\\computer_vision\\face_detection_using_yolo5s\\yolov5-face\n",
      "✅ Added 'C:\\Users\\abhin\\Desktop\\computer_vision\\face_detection_using_yolo5s\\yolov5-face' to Python sys.path\n",
      "✅ Successfully imported 'models.experimental'.\n",
      "⚙️ Using device: cpu\n"
     ]
    },
    {
     "name": "stderr",
     "output_type": "stream",
     "text": [
      "C:\\Users\\abhin\\Desktop\\computer_vision\\face_detection_using_yolo5s\\yolov5-face\\models\\experimental.py:118: FutureWarning: You are using `torch.load` with `weights_only=False` (the current default value), which uses the default pickle module implicitly. It is possible to construct malicious pickle data which will execute arbitrary code during unpickling (See https://github.com/pytorch/pytorch/blob/main/SECURITY.md#untrusted-models for more details). In a future release, the default value for `weights_only` will be flipped to `True`. This limits the functions that could be executed during unpickling. Arbitrary objects will no longer be allowed to be loaded via this mode unless they are explicitly allowlisted by the user via `torch.serialization.add_safe_globals`. We recommend you start setting `weights_only=True` for any use case where you don't have full control of the loaded file. Please open an issue on GitHub for any issues related to this experimental feature.\n",
      "  model.append(torch.load(w, map_location=map_location)['model'].float().fuse().eval())  # load FP32 model\n"
     ]
    },
    {
     "name": "stdout",
     "output_type": "stream",
     "text": [
      "Fusing layers... \n",
      "✅ Model loaded successfully!\n"
     ]
    },
    {
     "name": "stderr",
     "output_type": "stream",
     "text": [
      "c:\\Users\\abhin\\Desktop\\.venv\\Lib\\site-packages\\torch\\functional.py:534: UserWarning: torch.meshgrid: in an upcoming release, it will be required to pass the indexing argument. (Triggered internally at C:\\actions-runner\\_work\\pytorch\\pytorch\\builder\\windows\\pytorch\\aten\\src\\ATen\\native\\TensorShape.cpp:3596.)\n",
      "  return _VF.meshgrid(tensors, **kwargs)  # type: ignore[attr-defined]\n"
     ]
    }
   ],
   "source": [
    "import os\n",
    "import sys\n",
    "import torch\n",
    "from pathlib import Path\n",
    "\n",
    "# Define the repository path\n",
    "repo_path = Path(r\"C:\\Users\\abhin\\Desktop\\computer_vision\\face_detection_using_yolo5s\\yolov5-face\")\n",
    "\n",
    "# ✅ Check if the repository path exists\n",
    "if not repo_path.exists():\n",
    "    print(f\"❌ Error: Repository path '{repo_path}' does not exist. Check the path and try again.\")\n",
    "    sys.exit(1)\n",
    "\n",
    "# ✅ Change the working directory\n",
    "try:\n",
    "    os.chdir(repo_path)\n",
    "    print(f\"✅ Changed working directory to: {os.getcwd()}\")\n",
    "except Exception as e:\n",
    "    print(f\"❌ Error changing directory: {e}\")\n",
    "    sys.exit(1)\n",
    "\n",
    "# ✅ Add repo path to sys.path if not already added\n",
    "if str(repo_path) not in sys.path:\n",
    "    sys.path.append(str(repo_path))\n",
    "    print(f\"✅ Added '{repo_path}' to Python sys.path\")\n",
    "\n",
    "# ✅ Verify if 'models.experimental' can be imported\n",
    "try:\n",
    "    from models.experimental import attempt_load\n",
    "    print(\"✅ Successfully imported 'models.experimental'.\")\n",
    "except ModuleNotFoundError:\n",
    "    print(\"❌ Error: Could not find 'models.experimental'. Ensure the YOLOv5-Face repo is correctly cloned and accessible.\")\n",
    "    sys.exit(1)\n",
    "\n",
    "# ✅ Define the model path (NOW as a Path object)\n",
    "model_path = Path(r\"C:\\Users\\abhin\\Desktop\\computer_vision\\face_detection_using_yolo5s\\yolov5s-face.pt\")\n",
    "\n",
    "# ✅ Check if the model file exists\n",
    "if not model_path.exists():  # ✅ Now it works correctly!\n",
    "    print(f\"❌ Error: Model file '{model_path}' not found. Please verify the file path.\")\n",
    "    sys.exit(1)\n",
    "\n",
    "# ✅ Select device (CUDA or CPU)\n",
    "device = torch.device(\"cuda\" if torch.cuda.is_available() else \"cpu\")\n",
    "print(f\"⚙️ Using device: {device}\")\n",
    "\n",
    "# ✅ Load the YOLOv5-Face model\n",
    "try:\n",
    "    model = attempt_load(str(model_path), map_location=device)  # Ensure model path is string for attempt_load\n",
    "    model.eval()\n",
    "    print(\"✅ Model loaded successfully!\")\n",
    "except Exception as e:\n",
    "    print(f\"❌ Error loading model: {e}\")\n",
    "    sys.exit(1)\n"
   ]
  },
  {
   "cell_type": "code",
   "execution_count": 2,
   "metadata": {},
   "outputs": [],
   "source": [
    "import torch\n",
    "import cv2\n",
    "import numpy as np\n"
   ]
  },
  {
   "cell_type": "code",
   "execution_count": 3,
   "metadata": {},
   "outputs": [],
   "source": [
    "CONF_THRESH = 0.7\n",
    "NMS_THRESH = 0.3"
   ]
  },
  {
   "cell_type": "code",
   "execution_count": 4,
   "metadata": {},
   "outputs": [],
   "source": [
    "cap = cv2.VideoCapture(0)"
   ]
  },
  {
   "cell_type": "code",
   "execution_count": 5,
   "metadata": {},
   "outputs": [],
   "source": [
    "while cap.isOpened():\n",
    "    ret, frame = cap.read()\n",
    "    if not ret:\n",
    "        break\n",
    "\n",
    "    # Convert image to tensor\n",
    "    img_rgb = cv2.cvtColor(frame, cv2.COLOR_BGR2RGB)\n",
    "    img_resized = cv2.resize(img_rgb, (320, 320))  # Resize for YOLOv5 input\n",
    "    img_tensor = torch.from_numpy(img_resized).float() / 255.0\n",
    "    img_tensor = img_tensor.permute(2, 0, 1).unsqueeze(0)  # Shape: (1, 3, 320, 320)\n",
    "\n",
    "    # Run inference\n",
    "    with torch.no_grad():\n",
    "        pred = model(img_tensor)  # Output is a tuple\n",
    "        pred = pred[0]  # Extract first element from tuple (this is our detections)\n",
    "\n",
    "    # Convert detections to NumPy\n",
    "    pred = pred.cpu().numpy()\n",
    "\n",
    "    # print(\"Shape of pred:\", pred.shape)\n",
    "    # print(\"Content of pred:\", pred)\n",
    "\n",
    "    boxes = []\n",
    "    confidences = []\n",
    "\n",
    "    # Process detections\n",
    "    for det in pred[0]:\n",
    "        # Extract bounding box coordinates (x_center, y_center, width, height)\n",
    "        x_center, y_center, width, height = det[:4]\n",
    "\n",
    "        # Convert to (x1, y1, x2, y2) format\n",
    "        x1 = int((x_center - width / 2) * (frame.shape[1] / 320))  # Scale to original frame size\n",
    "        y1 = int((y_center - height / 2) * (frame.shape[0] / 320))\n",
    "        x2 = int((x_center + width / 2) * (frame.shape[1] / 320))\n",
    "        y2 = int((y_center + height / 2) * (frame.shape[0] / 320))\n",
    "\n",
    "        # Extract confidence score\n",
    "        conf = det[4]  # Confidence score is typically at index 4\n",
    "\n",
    "        # Filter out low-confidence predictions\n",
    "        if conf > CONF_THRESH:\n",
    "            boxes.append([x1, y1, x2, y2])\n",
    "            confidences.append(float(conf))\n",
    "\n",
    "    # Apply Non-Maximum Suppression (NMS)\n",
    "    indices = cv2.dnn.NMSBoxes(boxes, confidences, CONF_THRESH, NMS_THRESH)\n",
    "    if indices is not None and len(indices) > 0:\n",
    "        for i in indices.flatten():\n",
    "            x1, y1, x2, y2 = boxes[i]\n",
    "            conf = confidences[i]\n",
    "            cv2.rectangle(frame, (x1, y1), (x2, y2), (0, 255, 0), 2)\n",
    "            cv2.putText(frame, f\"Face {conf:.2f}\", (x1, y1 - 10),\n",
    "                        cv2.FONT_HERSHEY_SIMPLEX, 0.5, (0, 255, 0), 2)\n",
    "\n",
    "    # Show the frame\n",
    "    cv2.imshow(\"YOLOv5 Face Detection\", frame)\n",
    "\n",
    "    # Press 'Esc' to exit\n",
    "    if cv2.waitKey(1) == 27:\n",
    "        break\n",
    "\n",
    "cap.release()\n",
    "cv2.destroyAllWindows()"
   ]
  },
  {
   "cell_type": "code",
   "execution_count": null,
   "metadata": {},
   "outputs": [],
   "source": []
  }
 ],
 "metadata": {
  "kernelspec": {
   "display_name": ".venv",
   "language": "python",
   "name": "python3"
  },
  "language_info": {
   "codemirror_mode": {
    "name": "ipython",
    "version": 3
   },
   "file_extension": ".py",
   "mimetype": "text/x-python",
   "name": "python",
   "nbconvert_exporter": "python",
   "pygments_lexer": "ipython3",
   "version": "3.12.4"
  }
 },
 "nbformat": 4,
 "nbformat_minor": 2
}
